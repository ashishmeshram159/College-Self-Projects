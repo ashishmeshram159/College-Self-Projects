{
 "cells": [
  {
   "cell_type": "markdown",
   "id": "59776154",
   "metadata": {},
   "source": [
    "# Password Generator\n",
    "    \n",
    "- Looking at the current era of privacy breaches, the most bothersome part for a user is generating & remembering a strong password for each website's login and that too for multiple accounts.\n",
    "- A strong password is a random combination of numbers, alphabets and alphanumeric characters that is very unlikely to be guessed. \n",
    "- Using Python we can generate random passwords for any of your accounts and save them locally if we like."
   ]
  },
  {
   "cell_type": "code",
   "execution_count": 1,
   "id": "8cdf3f21",
   "metadata": {
    "scrolled": true
   },
   "outputs": [
    {
     "name": "stdout",
     "output_type": "stream",
     "text": [
      "How many passwords do you want to generate? (input as natural no.) : 1\n",
      "Generating 1 passwords\n",
      "Minimum length of password should be 6\n",
      "Enter the length of Password #1: 6\n",
      "Password #1 = ap6<a-\n",
      "\n"
     ]
    }
   ],
   "source": [
    "import random\n",
    "from datetime import datetime as dt\n",
    "\n",
    "def generatePassword(pwlength):\n",
    "\n",
    "    alphabetNsymbols = \"abcdefghijklmnopqrstuvwxyz!@#$%^&*()_-+=/.<>?;:\"\n",
    "    passwords = [] \n",
    "\n",
    "    for i in pwlength:\n",
    "        password = \"\" \n",
    "        for j in range(i):\n",
    "            next_letter_index = random.randrange(len(alphabetNsymbols))\n",
    "            password = password + alphabetNsymbols[next_letter_index]\n",
    "        \n",
    "        password = replace_by_Number(password)\n",
    "        password = replace_by_Uppercase(password)\n",
    "        \n",
    "        passwords.append(password) \n",
    "    \n",
    "    return passwords\n",
    "\n",
    "\n",
    "def replace_by_Number(pword):\n",
    "    for i in range(random.randrange(1,3)):\n",
    "        replace_index = random.randrange(len(pword)//2)\n",
    "        pword = pword[0:replace_index] + str(random.randrange(10)) + pword[replace_index+1:]\n",
    "        return pword\n",
    "\n",
    "\n",
    "def replace_by_Uppercase(pword):\n",
    "    for i in range(random.randrange(1,3)):\n",
    "        replace_index = random.randrange(len(pword)//2,len(pword))\n",
    "        pword = pword[0:replace_index] + pword[replace_index].upper() + pword[replace_index+1:]\n",
    "        return pword\n",
    "\n",
    "def GENpasswords(PWD):\n",
    "    \n",
    "    numPwds = int(input(\"How many passwords do you want to generate? (input as natural no.) : \"))\n",
    "    \n",
    "    print(\"Generating \" +str(numPwds)+\" passwords\")\n",
    "    \n",
    "    pwdLengths = []\n",
    "\n",
    "    print(\"Minimum length of password should be 6\")\n",
    "    \n",
    "    for i in range(numPwds):\n",
    "        x=0\n",
    "        while(x<1):\n",
    "            c = int(input(\"Enter the length of Password #\" + str(i+1) + \": \"))\n",
    "            if c>=6:\n",
    "                length=c\n",
    "                x = 1\n",
    "            else:\n",
    "                print('\\t\\tINCORRECT LENGTH ENTERED!!!!'+'Re-enter Password length: ')\n",
    "        pwdLengths.append(length)\n",
    "    \n",
    "    Password = generatePassword(pwdLengths)\n",
    "    \n",
    "    for i in range(numPwds):\n",
    "        print (\"Password #\"+str(i+1)+\" = \" + Password[i]+'\\n')\n",
    "        PWD.append(Password[i])\n",
    "    return(PWD)\n",
    "\n",
    "def savepwds(A,B):\n",
    "    for i in range(len(A)):\n",
    "        print(\"Enter the website for \"+\"Password #\"+str(i+1)+':')\n",
    "        B[input()] = A[i], (dt.now()).strftime(\"%d/%m/%Y %H:%M:%S\")\n",
    "    return(B)\n",
    "\n",
    "PWDreg,D = [],{}\n",
    "PWDreg = GENpasswords(PWDreg)\n"
   ]
  },
  {
   "cell_type": "markdown",
   "id": "43c38f60",
   "metadata": {},
   "source": [
    "## Do you want to save your Passwords by website:"
   ]
  },
  {
   "cell_type": "code",
   "execution_count": 2,
   "id": "24db0f69",
   "metadata": {},
   "outputs": [
    {
     "name": "stdout",
     "output_type": "stream",
     "text": [
      "Enter the website for Password #1:\n",
      "Steam\n"
     ]
    }
   ],
   "source": [
    "D = savepwds(PWDreg,D)\n",
    "Dkeys = list(D.keys())"
   ]
  },
  {
   "cell_type": "markdown",
   "id": "9033bc10",
   "metadata": {},
   "source": [
    "## Save the Passwords in a file:\n"
   ]
  },
  {
   "cell_type": "code",
   "execution_count": 3,
   "id": "2795eb26",
   "metadata": {},
   "outputs": [],
   "source": [
    "with open(\"Passwords.txt\", \"a\") as SaveP:\n",
    "    for i in range(len(Dkeys)):\n",
    "        SaveP.write('\\n'+str(Dkeys[i]) +'\\t\\t'+str(D[Dkeys[i]]))\n",
    "    "
   ]
  }
 ],
 "metadata": {
  "kernelspec": {
   "display_name": "Python 3",
   "language": "python",
   "name": "python3"
  },
  "language_info": {
   "codemirror_mode": {
    "name": "ipython",
    "version": 3
   },
   "file_extension": ".py",
   "mimetype": "text/x-python",
   "name": "python",
   "nbconvert_exporter": "python",
   "pygments_lexer": "ipython3",
   "version": "3.8.8"
  }
 },
 "nbformat": 4,
 "nbformat_minor": 5
}
