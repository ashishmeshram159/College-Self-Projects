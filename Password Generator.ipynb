{
 "cells": [
  {
   "cell_type": "markdown",
   "id": "59776154",
   "metadata": {},
   "source": [
    "## Password Generator\n",
    "    \n",
    "The most difficult part of managing multiple accounts is generating a different strong password\n",
    "for each. A strong password is a mix of alphabets, numbers, and alphanumeric characters. \n",
    "Therefore, the best use of Python could be building a project where you could generate \n",
    "random passwords for any of your accounts."
   ]
  },
  {
   "cell_type": "code",
   "execution_count": null,
   "id": "8cdf3f21",
   "metadata": {},
   "outputs": [],
   "source": [
    "import random\n",
    "\n",
    "def generatePassword(pwlength):\n",
    "\n",
    "    alphabet = \"abcdefghijklmnopqrstuvwxyz\"\n",
    "\n",
    "    passwords = [] \n",
    "\n",
    "    for i in pwlength:\n",
    "        \n",
    "        password = \"\" \n",
    "        for j in range(i):\n",
    "            next_letter_index = random.randrange(len(alphabet))\n",
    "            password = password + alphabet[next_letter_index]\n",
    "        \n",
    "        password = replaceWithNumber(password)\n",
    "        password = replaceWithUppercaseLetter(password)\n",
    "        \n",
    "        passwords.append(password) \n",
    "    \n",
    "    return passwords\n",
    "\n",
    "\n",
    "def replaceWithNumber(pword):\n",
    "    for i in range(random.randrange(1,3)):\n",
    "        replace_index = random.randrange(len(pword)//2)\n",
    "        pword = pword[0:replace_index] + str(random.randrange(10)) + pword[replace_index+1:]\n",
    "        return pword\n",
    "\n",
    "\n",
    "def replaceWithUppercaseLetter(pword):\n",
    "    for i in range(random.randrange(1,3)):\n",
    "        replace_index = random.randrange(len(pword)//2,len(pword))\n",
    "        pword = pword[0:replace_index] + pword[replace_index].upper() + pword[replace_index+1:]\n",
    "        return pword\n",
    "\n",
    "def main():\n",
    "    \n",
    "    numPasswords = int(input(\"How many passwords do you want to generate? \"))\n",
    "    \n",
    "    print(\"Generating \" +str(numPasswords)+\" passwords\")\n",
    "    \n",
    "    passwordLengths = []\n",
    "\n",
    "    print(\"Minimum length of password should be 3\")\n",
    "\n",
    "    for i in range(numPasswords):\n",
    "        length = int(input(\"Enter the length of Password #\" + str(i+1) + \" \"))\n",
    "        if length<3:\n",
    "            length = 3\n",
    "        passwordLengths.append(length)\n",
    "    \n",
    "    \n",
    "    Password = generatePassword(passwordLengths)\n",
    "\n",
    "    for i in range(numPasswords):\n",
    "        print (\"Password #\"+str(i+1)+\" = \" + Password[i])\n",
    "\n",
    "\n",
    "\n",
    "main()"
   ]
  }
 ],
 "metadata": {
  "kernelspec": {
   "display_name": "Python 3",
   "language": "python",
   "name": "python3"
  },
  "language_info": {
   "codemirror_mode": {
    "name": "ipython",
    "version": 3
   },
   "file_extension": ".py",
   "mimetype": "text/x-python",
   "name": "python",
   "nbconvert_exporter": "python",
   "pygments_lexer": "ipython3",
   "version": "3.8.8"
  }
 },
 "nbformat": 4,
 "nbformat_minor": 5
}
