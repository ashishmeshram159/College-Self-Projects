{
 "cells": [
  {
   "cell_type": "markdown",
   "id": "f9381335",
   "metadata": {},
   "source": [
    "# Dice roll Simulation"
   ]
  },
  {
   "cell_type": "markdown",
   "id": "cba54d04",
   "metadata": {},
   "source": [
    "## For an Unbiased Dice roll:"
   ]
  },
  {
   "cell_type": "code",
   "execution_count": 1,
   "id": "38cb80bb",
   "metadata": {},
   "outputs": [
    {
     "name": "stdout",
     "output_type": "stream",
     "text": [
      "For a Fair die upon simulation, the probabilities of getting a 1,2,3,4,5,6 on the top face respectively are:\n",
      " [0.159, 0.159, 0.159, 0.164, 0.188, 0.171]\n",
      "\n",
      "For a Fair die upon simulation, the sum of all probabilities is = 1.0\n"
     ]
    }
   ],
   "source": [
    "import random\n",
    "\n",
    "def Roll_Dice_Unbiased():      \n",
    "    return(int(random.uniform(1,7)))  #Setting up the pdf\n",
    "\n",
    "l,prob = [],[]\n",
    "\n",
    "for i in range(1000):   #simulation\n",
    "    l.append(Roll_Dice_Unbiased())\n",
    "#print(l)\n",
    "\n",
    "for i in range(1,7):\n",
    "    prob.append((l.count(i)/1000)) #Probabilities\n",
    "\n",
    "print(\"For a Fair die upon simulation, the probabilities of getting a 1,2,3,4,5,6 on the top face respectively are:\\n\",prob)\n",
    "print(\"\\nFor a Fair die upon simulation, the sum of all probabilities is =\", sum(prob))\n"
   ]
  },
  {
   "cell_type": "markdown",
   "id": "46d630be",
   "metadata": {},
   "source": [
    "## For a Biased Dice roll:\n"
   ]
  },
  {
   "cell_type": "code",
   "execution_count": 2,
   "id": "56332743",
   "metadata": {},
   "outputs": [
    {
     "name": "stdout",
     "output_type": "stream",
     "text": [
      "For a Biased die upon simulation, the probabilities of getting a 1,2,3,4,5,6 on the top face respectively are:\n",
      " [0.2493, 0.0496, 0.1066, 0.2008, 0.2224, 0.1713]\n",
      "\n",
      "For a Biased die upon simulation, the sum of all probabilities is = 1.0\n"
     ]
    }
   ],
   "source": [
    "import numpy as np\n",
    "\n",
    "def Roll_Dice_Biased():      \n",
    "    outcomes = list(range(1,7))  #set outcomes\n",
    "    X = list(np.random.choice(outcomes, 10000, p=[0.25, 0.05, 0.1, 0.2, 0.225,0.175]) ) #Set PDF for roll\n",
    "    return(X)  \n",
    "\n",
    "L = Roll_Dice_Biased()\n",
    "P= []\n",
    "\n",
    "for i in range(1,7):\n",
    "    P.append((L.count(i)/10000)) #Probabilities\n",
    "#print(P)\n",
    "\n",
    "print(\"For a Biased die upon simulation, the probabilities of getting a 1,2,3,4,5,6 on the top face respectively are:\\n\",P)\n",
    "print(\"\\nFor a Biased die upon simulation, the sum of all probabilities is =\", sum(P))"
   ]
  }
 ],
 "metadata": {
  "kernelspec": {
   "display_name": "Python 3",
   "language": "python",
   "name": "python3"
  },
  "language_info": {
   "codemirror_mode": {
    "name": "ipython",
    "version": 3
   },
   "file_extension": ".py",
   "mimetype": "text/x-python",
   "name": "python",
   "nbconvert_exporter": "python",
   "pygments_lexer": "ipython3",
   "version": "3.8.8"
  }
 },
 "nbformat": 4,
 "nbformat_minor": 5
}
