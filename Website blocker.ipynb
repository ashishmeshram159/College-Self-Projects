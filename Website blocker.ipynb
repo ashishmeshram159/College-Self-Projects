{
 "cells": [
  {
   "cell_type": "markdown",
   "id": "3075d5c3",
   "metadata": {},
   "source": [
    "# Website blocker:\n",
    "- Save yourself some time and do something useful"
   ]
  },
  {
   "cell_type": "code",
   "execution_count": 1,
   "id": "fdaddaf6",
   "metadata": {},
   "outputs": [],
   "source": [
    "import time\n",
    "from datetime import datetime as dt\n",
    "\n",
    "sites_to_block = [\n",
    "    \"www.facebook.com\",\"facebook.com\",\n",
    "    \"www.youtube.com\",\"youtube.com\",\n",
    "    \"www.twitch.tv\",\"twitch.tv\",\n",
    "    \"www.twitter.com\",\"twitter.com\",\n",
    "    \"www.instagram.com\",\"instagram.com\",\n",
    "    \"www.primevideo.com\",\"primevideo.com\",\n",
    "    \"www.hotstar.com\",\"hotstar.com\",\n",
    "    \"www.netflix.com\",\"netflix.com\",\n",
    "    \"www.crunchyroll.com\",\"crunchyroll.com\",\n",
    "    \"www.formula1.com\",\"formula1.com\",\n",
    "    \"www.nba.com\",\"nba.com\"]\n",
    "\n",
    "#Linux_host = \"/etc/hosts\"\n",
    "Window_host = r\"C:\\Windows\\System32\\drivers\\etc\\hosts\" \n",
    "default_hoster = Window_host\n",
    "redirect = \"127.0.0.1\"\n",
    "\n",
    "def block_websites(start_hour, end_hour, start_date,end_date):\n",
    "    while True:\n",
    "        if ( (start_date <= dt(dt.now().year, dt.now().month, dt.now().day) < end_date) and\n",
    "            dt(dt.now().year, dt.now().month, dt.now().day, start_hour)\n",
    "            <= dt.now()\n",
    "            < dt(dt.now().year, dt.now().month, dt.now().day, end_hour)\n",
    "        ):\n",
    "            with open(default_hoster, \"r+\") as hostfile:\n",
    "                hosts = hostfile.read()\n",
    "                for site in sites_to_block:\n",
    "                    if site not in hosts:\n",
    "                        hostfile.write(redirect + \" \" + site + \"\\n\")\n",
    "                hostfile.truncate()\n",
    "                print(\"Do your work! Your CG needs to be improved ....\")\n",
    "                break\n",
    "        else:\n",
    "            with open(default_hoster, \"r+\") as hostfile:\n",
    "                hosts = hostfile.readlines()\n",
    "                hostfile.seek(0)\n",
    "                for host in hosts:\n",
    "                    if not any(site in host for site in sites_to_block):\n",
    "                        hostfile.write(host)\n",
    "                hostfile.truncate()\n",
    "            print(\"You may relax!!\")\n",
    "            break\n",
    "        time.sleep(3)"
   ]
  },
  {
   "cell_type": "markdown",
   "id": "a05f6f30",
   "metadata": {},
   "source": [
    "## Specify the Date and Time to block websites:\n",
    "- Date (format : yyyymmdd) \n",
    "- Time in hours (format: 24hr) "
   ]
  },
  {
   "cell_type": "code",
   "execution_count": 2,
   "id": "7f3fd5d5",
   "metadata": {},
   "outputs": [
    {
     "name": "stdout",
     "output_type": "stream",
     "text": [
      "You may relax!!\n"
     ]
    }
   ],
   "source": [
    "if __name__ == \"__main__\":\n",
    "    start_date =dt(2021,12,2) #yyyymmdd\n",
    "    end_date = dt(2021,12,9) #todays_date = dt(dt.now().year, dt.now().month, dt.now().day\n",
    "    start_hour,end_hour = 23, 23\n",
    "    block_websites(start_hour,end_hour,start_date,end_date)"
   ]
  }
 ],
 "metadata": {
  "kernelspec": {
   "display_name": "Python 3",
   "language": "python",
   "name": "python3"
  },
  "language_info": {
   "codemirror_mode": {
    "name": "ipython",
    "version": 3
   },
   "file_extension": ".py",
   "mimetype": "text/x-python",
   "name": "python",
   "nbconvert_exporter": "python",
   "pygments_lexer": "ipython3",
   "version": "3.8.8"
  }
 },
 "nbformat": 4,
 "nbformat_minor": 5
}
