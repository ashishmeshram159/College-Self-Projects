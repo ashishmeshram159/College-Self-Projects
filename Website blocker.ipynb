{
 "cells": [
  {
   "cell_type": "markdown",
   "id": "3075d5c3",
   "metadata": {},
   "source": [
    "## Website blocker\n"
   ]
  },
  {
   "cell_type": "code",
   "execution_count": null,
   "id": "fdaddaf6",
   "metadata": {},
   "outputs": [],
   "source": [
    "import time\n",
    "from datetime import datetime as dt\n",
    "sites_to_block = [\n",
    "    \"www.facebook.com\",\n",
    "    \"facebook.com\",\n",
    "    \"www.youtube.com\",\n",
    "    \"youtube.com\",\n",
    "    \"www.gmail.com\",\n",
    "    \"gmail.com\",\n",
    "]\n",
    "#Linux_host = \"/etc/hosts\"\n",
    "Window_host = r\"C:\\Windows\\System32\\drivers\\etc\\hosts\"\n",
    "default_hoster = Window_host\n",
    "redirect = \"127.0.0.1\"\n",
    "def block_websites(start_hour, end_hour):\n",
    "    while True:\n",
    "        if (\n",
    "            dt(dt.now().year, dt.now().month, dt.now().day, start_hour)\n",
    "            < dt.now()\n",
    "            < dt(dt.now().year, dt.now().month, dt.now().day, end_hour)\n",
    "        ):\n",
    "            print(\"Do the work ....\")\n",
    "            with open(default_hoster, \"r+\") as hostfile:\n",
    "                hosts = hostfile.read()\n",
    "                for site in sites_to_block:\n",
    "                    if site not in hosts:\n",
    "                        hostfile.write(redirect + \" \" + site + \"\\n\")\n",
    "        else:\n",
    "            with open(default_hoster, \"r+\") as hostfile:\n",
    "                hosts = hostfile.readlines()\n",
    "                hostfile.seek(0)\n",
    "                for host in hosts:\n",
    "                    if not any(site in host for site in sites_to_block):\n",
    "                        hostfile.write(host)\n",
    "                hostfile.truncate()\n",
    "            print(\"Good Time\")\n",
    "        time.sleep(3)\n",
    "        \n",
    "if __name__ == \"__main__\":\n",
    "    block_websites(9, 21)"
   ]
  }
 ],
 "metadata": {
  "kernelspec": {
   "display_name": "Python 3",
   "language": "python",
   "name": "python3"
  },
  "language_info": {
   "codemirror_mode": {
    "name": "ipython",
    "version": 3
   },
   "file_extension": ".py",
   "mimetype": "text/x-python",
   "name": "python",
   "nbconvert_exporter": "python",
   "pygments_lexer": "ipython3",
   "version": "3.8.8"
  }
 },
 "nbformat": 4,
 "nbformat_minor": 5
}
